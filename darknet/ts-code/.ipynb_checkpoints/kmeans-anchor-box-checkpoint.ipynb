{
 "cells": [
  {
   "cell_type": "markdown",
   "metadata": {},
   "source": [
    "聚类生成anchor box"
   ]
  },
  {
   "cell_type": "code",
   "execution_count": 15,
   "metadata": {},
   "outputs": [],
   "source": [
    "import numpy as np\n",
    "import matplotlib.pyplot as plt\n",
    "from sklearn.cluster import KMeans\n",
    "import xml.dom.minidom\n",
    "import os"
   ]
  },
  {
   "cell_type": "code",
   "execution_count": 16,
   "metadata": {},
   "outputs": [
    {
     "name": "stdout",
     "output_type": "stream",
     "text": [
      "[0 0 0 1 1 1]\n",
      "[[1. 2.]\n",
      " [4. 2.]]\n"
     ]
    }
   ],
   "source": [
    "X = np.array([[1, 2], [1, 4], [1, 0],\n",
    "               [4, 2], [4, 4], [4, 0]])\n",
    "kmeans = KMeans(n_clusters=2, random_state=0).fit(X)\n",
    "print(kmeans.labels_)\n",
    "kmeans.predict([[0, 0], [4, 4]])\n",
    "print(kmeans.cluster_centers_)"
   ]
  },
  {
   "cell_type": "code",
   "execution_count": 36,
   "metadata": {},
   "outputs": [],
   "source": [
    "xml_file_dirs = [\"/home/sakulaki/bigtest4/train/\",\n",
    "                \"/home/sakulaki/bigtest4/validate/\",\n",
    "                \"/home/sakulaki/bigtest4/test/\",\n",
    "                \"/home/sakulaki/bigtest4/test2/\"]\n",
    "\n",
    "xml_file_list = []\n",
    "\n",
    "for xml_file_dir in xml_file_dirs:\n",
    "    temp_xml_file_list = os.listdir(xml_file_dir)\n",
    "    for i, xml_file in enumerate(temp_xml_file_list):\n",
    "        temp_xml_file_list[i] = xml_file_dir + xml_file\n",
    "    xml_file_list += temp_xml_file_list\n",
    "    \n",
    "for i, xml_file in enumerate(xml_file_list):\n",
    "    xml_file_list[i] = xml_file.split(\".\")[0]\n",
    "\n",
    "xml_file_list = list(set(xml_file_list))\n",
    "\n",
    "for i, xml_file in enumerate(xml_file_list):\n",
    "    xml_file_list[i] = xml_file + \".xml\""
   ]
  },
  {
   "cell_type": "code",
   "execution_count": null,
   "metadata": {},
   "outputs": [],
   "source": [
    "def parse_xml_gen_data(xml_name, box_data):\n",
    "    DOMTree = xml.dom.minidom.parse(xml_name)\n",
    "    collection = DOMTree.documentElement\n",
    "    filename = collection.getElementsByTagName(\"filename\")\n",
    "    objects = collection.getElementsByTagName(\"object\")\n",
    "    \n",
    "    w = collection.getElementsByTagName(\"width\")[0]\n",
    "    w_val = int(w.firstChild.nodeValue)\n",
    "    h = collection.getElementsByTagName(\"height\")[0]\n",
    "    h_val = int(h.firstChild.nodeValue)\n",
    "    w.firstChild.replaceWholeText(str(h_val))\n",
    "    h.firstChild.replaceWholeText(str(w_val))\n",
    "    \n",
    "    for object in objects:\n",
    "        xmin = object.getElementsByTagName(\"xmin\")[0]\n",
    "        xmin_val = int(xmin.firstChild.nodeValue)\n",
    "        xmax = object.getElementsByTagName(\"xmax\")[0]\n",
    "        xmax_val = int(xmax.firstChild.nodeValue)\n",
    "        ymin = object.getElementsByTagName(\"ymin\")[0]\n",
    "        ymin_val = int(ymin.firstChild.nodeValue)\n",
    "        ymax = object.getElementsByTagName(\"ymax\")[0]\n",
    "        ymax_val = int(ymax.firstChild.nodeValue)"
   ]
  }
 ],
 "metadata": {
  "kernelspec": {
   "display_name": "Python 3",
   "language": "python",
   "name": "python3"
  },
  "language_info": {
   "codemirror_mode": {
    "name": "ipython",
    "version": 3
   },
   "file_extension": ".py",
   "mimetype": "text/x-python",
   "name": "python",
   "nbconvert_exporter": "python",
   "pygments_lexer": "ipython3",
   "version": "3.5.4"
  }
 },
 "nbformat": 4,
 "nbformat_minor": 2
}
