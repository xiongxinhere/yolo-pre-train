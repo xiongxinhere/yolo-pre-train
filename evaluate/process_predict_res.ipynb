{
 "cells": [
  {
   "cell_type": "markdown",
   "metadata": {},
   "source": [
    "### Process predict results"
   ]
  },
  {
   "cell_type": "markdown",
   "metadata": {},
   "source": [
    "提取预测结果和标签"
   ]
  },
  {
   "cell_type": "code",
   "execution_count": 9,
   "metadata": {},
   "outputs": [
    {
     "name": "stdout",
     "output_type": "stream",
     "text": [
      "4382\n",
      "7296\n"
     ]
    }
   ],
   "source": [
    "import os\n",
    "from prediction_evaluate import *\n",
    "\n",
    "result_dir = \"/home/sakulaki/code/yolo-pre-trained/darknet/results\"\n",
    "#validata_dir = \"/home/sakulaki/dataset/enhancement_608_01/test3\"\n",
    "#validata_dir = \"/home/sakulaki/dataset/enhancement_608_01/test4\"\n",
    "#validata_dir = \"/home/sakulaki/dataset/tct_data608_0716_5classes_rotated/validate\"\n",
    "validata_dir = \"/home/sakulaki/dataset/tct_data608_0716_5classes_rotated/test4\"\n",
    "#classes = [\"ASCUS\", \"LSIL\", \"ASCH\", \"HSIL\", \"SCC\", \"AGC1\", \"AGC2\", \n",
    "#           \"ADC\", \"EC\", \"FUNGI\", \"TRI\", \"CC\", \"ACTINO\", \"VIRUS\"]\n",
    "classes = [\"ASCUS\", \"LSIL\", \"ASCH\", \"HSIL\", \"SCC\"]\n",
    "\n",
    "dict_pic_info = get_predictions_result(result_dir, classes)\n",
    "dict_pic_label_box_info = get_labels(validata_dir, classes)\n",
    "\n",
    "print(len(dict_pic_info))\n",
    "print(len(dict_pic_label_box_info))"
   ]
  },
  {
   "cell_type": "markdown",
   "metadata": {},
   "source": [
    "比较结果和标签，得出性能评价"
   ]
  },
  {
   "cell_type": "code",
   "execution_count": 10,
   "metadata": {},
   "outputs": [
    {
     "name": "stdout",
     "output_type": "stream",
     "text": [
      "[1683, 3719, 155, 585, 20]\n",
      "#####################\n",
      "召回率\n",
      "#####################\n",
      "ASCUS\t:\t807/1420      \trecall:\t0.5683098591549296\n",
      "LSIL\t:\t1071/1349      \trecall:\t0.7939214232765011\n",
      "ASCH\t:\t7/36      \trecall:\t0.19444444444444445\n",
      "HSIL\t:\t0/0      \trecall:\t0\n",
      "SCC\t:\t0/0      \trecall:\t0\n",
      "#####################\n",
      "准确率\n",
      "#####################\n",
      "ASCUS\t:\t807/1683      \tacc:\t0.47950089126559714\n",
      "LSIL\t:\t1071/3719      \tacc:\t0.2879806399569777\n",
      "ASCH\t:\t7/155      \tacc:\t0.04516129032258064\n",
      "HSIL\t:\t0/585      \tacc:\t0.0\n",
      "SCC\t:\t0/20      \tacc:\t0.0\n"
     ]
    }
   ],
   "source": [
    "det = 0.05\n",
    "iou = 0.3\n",
    "img_size = 608\n",
    "all_prediction_object_count, prediction_object_count, label_object_count,\\\n",
    "recalls, accurates = cal_evaluate(dict_pic_info, dict_pic_label_box_info,\n",
    "                                  classes, det, iou, img_size)\n",
    "print_evaluate(classes,\n",
    "               all_prediction_object_count, \n",
    "               prediction_object_count, \n",
    "               label_object_count,\n",
    "               recalls, \n",
    "               accurates)"
   ]
  },
  {
   "cell_type": "markdown",
   "metadata": {},
   "source": [
    "\n",
    "\n",
    "\n",
    "\n"
   ]
  },
  {
   "cell_type": "code",
   "execution_count": null,
   "metadata": {
    "collapsed": true
   },
   "outputs": [],
   "source": []
  }
 ],
 "metadata": {
  "kernelspec": {
   "display_name": "Python 3",
   "language": "python",
   "name": "python3"
  },
  "language_info": {
   "codemirror_mode": {
    "name": "ipython",
    "version": 3
   },
   "file_extension": ".py",
   "mimetype": "text/x-python",
   "name": "python",
   "nbconvert_exporter": "python",
   "pygments_lexer": "ipython3",
   "version": "3.5.4"
  }
 },
 "nbformat": 4,
 "nbformat_minor": 2
}
