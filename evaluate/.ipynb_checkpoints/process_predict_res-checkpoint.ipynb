{
 "cells": [
  {
   "cell_type": "markdown",
   "metadata": {},
   "source": [
    "### Process predict results"
   ]
  },
  {
   "cell_type": "markdown",
   "metadata": {},
   "source": [
    "提取预测结果和标签"
   ]
  },
  {
   "cell_type": "code",
   "execution_count": 15,
   "metadata": {},
   "outputs": [
    {
     "name": "stdout",
     "output_type": "stream",
     "text": [
      "843\n",
      "7294\n"
     ]
    }
   ],
   "source": [
    "import os\n",
    "from prediction_evaluate import *\n",
    "\n",
    "result_dir = \"/home/sakulaki/yolo-pre-trained/darknet/results\"\n",
    "validata_dir = \"/home/sakulaki/dataset/enhancement_608_01/test3\"\n",
    "#classes = [\"ASCUS\", \"LSIL\", \"ASCH\", \"HSIL\", \"SCC\", \"AGC1\", \"AGC2\", \n",
    "#           \"ADC\", \"EC\", \"FUNGI\", \"TRI\", \"CC\", \"ACTINO\", \"VIRUS\"]\n",
    "classes = [\"ASCUS\", \"LSIL\", \"ASCH\", \"HSIL\", \"SCC\"]\n",
    "\n",
    "dict_pic_info = get_predictions_result(result_dir, classes)\n",
    "dict_pic_label_box_info = get_labels(validata_dir, classes)\n",
    "\n",
    "print(len(dict_pic_info))\n",
    "print(len(dict_pic_label_box_info))"
   ]
  },
  {
   "cell_type": "markdown",
   "metadata": {},
   "source": [
    "比较结果和标签，得出性能评价"
   ]
  },
  {
   "cell_type": "code",
   "execution_count": 16,
   "metadata": {},
   "outputs": [
    {
     "name": "stdout",
     "output_type": "stream",
     "text": [
      "[328, 406, 20, 150, 0]\n",
      "#####################\n",
      "召回率\n",
      "#####################\n",
      "ASCUS\t:\t98/1267      \trecall:\t0.07734806629834254\n",
      "LSIL\t:\t161/1209      \trecall:\t0.13316790736145576\n",
      "ASCH\t:\t3/53      \trecall:\t0.05660377358490566\n",
      "HSIL\t:\t0/1      \trecall:\t0.0\n",
      "SCC\t:\t0/0      \trecall:\t0\n",
      "#####################\n",
      "准确率\n",
      "#####################\n",
      "ASCUS\t:\t98/328      \tacc:\t0.29878048780487804\n",
      "LSIL\t:\t161/406      \tacc:\t0.39655172413793105\n",
      "ASCH\t:\t3/20      \tacc:\t0.15\n",
      "HSIL\t:\t0/150      \tacc:\t0.0\n",
      "SCC\t:\t0/0      \tacc:\t0\n"
     ]
    }
   ],
   "source": [
    "det = 0.05\n",
    "iou = 0.3\n",
    "img_size = 608\n",
    "all_prediction_object_count, prediction_object_count, label_object_count,\\\n",
    "recalls, accurates = cal_evaluate(dict_pic_info, dict_pic_label_box_info,\n",
    "                                  classes, det, iou, img_size)\n",
    "print_evaluate(classes,\n",
    "               all_prediction_object_count, \n",
    "               prediction_object_count, \n",
    "               label_object_count,\n",
    "               recalls, \n",
    "               accurates)"
   ]
  },
  {
   "cell_type": "markdown",
   "metadata": {},
   "source": [
    "\n",
    "\n",
    "\n",
    "\n"
   ]
  },
  {
   "cell_type": "code",
   "execution_count": null,
   "metadata": {},
   "outputs": [],
   "source": []
  }
 ],
 "metadata": {
  "kernelspec": {
   "display_name": "Python 3",
   "language": "python",
   "name": "python3"
  },
  "language_info": {
   "codemirror_mode": {
    "name": "ipython",
    "version": 3
   },
   "file_extension": ".py",
   "mimetype": "text/x-python",
   "name": "python",
   "nbconvert_exporter": "python",
   "pygments_lexer": "ipython3",
   "version": "3.6.5"
  }
 },
 "nbformat": 4,
 "nbformat_minor": 2
}
